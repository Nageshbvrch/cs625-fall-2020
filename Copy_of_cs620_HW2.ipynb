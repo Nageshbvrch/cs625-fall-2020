{
  "nbformat": 4,
  "nbformat_minor": 0,
  "metadata": {
    "colab": {
      "name": "Copy of cs620_HW2.ipynb",
      "provenance": [],
      "private_outputs": true,
      "collapsed_sections": [],
      "toc_visible": true,
      "authorship_tag": "ABX9TyMchWsByq4PHnh1ddN+X1LP",
      "include_colab_link": true
    },
    "kernelspec": {
      "name": "python3",
      "display_name": "Python 3"
    }
  },
  "cells": [
    {
      "cell_type": "markdown",
      "metadata": {
        "id": "view-in-github",
        "colab_type": "text"
      },
      "source": [
        "<a href=\"https://colab.research.google.com/github/Nageshbvrch/cs625-fall-2020/blob/master/Copy_of_cs620_HW2.ipynb\" target=\"_parent\"><img src=\"https://colab.research.google.com/assets/colab-badge.svg\" alt=\"Open In Colab\"/></a>"
      ]
    },
    {
      "cell_type": "code",
      "metadata": {
        "id": "5PGNZjUVvG_l"
      },
      "source": [
        "\"\"\"\n",
        "CS 620\n",
        "HW2-a\n",
        "@author: Nagesh Bheesetty\n",
        "\"\"\"\n",
        "\n",
        "\n",
        "\"\"\"Given two list of numbers that are already sorted, \n",
        " return a single merged list in sorted order.\n",
        "\"\"\"\n",
        "\n",
        "\n",
        "def merge(sortedListA, sortedListB):\n",
        "    #Complete this part \n",
        "    return sortedList\n",
        "\n",
        "\"\"\"Given a list of numbers in random order, return the summary statistics \n",
        "that includes the max, min, mean, population standard deviation, median,\n",
        "75 percentile, and 25 percentile.\n",
        "\"\"\"    \n",
        "def summaryStatistics(listOfNums):\n",
        "    #Complete this part. \n",
        "    # You can decide to return the following statistics either in a sequence \n",
        "    # type (i.e., list, tuple), or a key-value pair (i.e., dictionary)\n",
        "    return {'max': maxVal, \n",
        "            'min': minVal, \n",
        "            'mean': meanVal, \n",
        "            'stdev': stdev,\n",
        "            'median': median,\n",
        "            'perc75': perc75,\n",
        "            'perc25': perc25}\n",
        "    \n",
        "\n",
        "\"\"\"Given a list of real numbers in any range, scale them to be \n",
        "between 0 and 1 (inclusive). For each number x in the list, the new number \n",
        "is computed with the formula ((x - min)/(max - min)) where max is the \n",
        "maximum value of the original list and min is the minimum value of the list. \n",
        "\"\"\"\t\n",
        "def minMax(listOfNums): \n",
        "    #complete this part\n",
        "    return newList"
      ],
      "execution_count": null,
      "outputs": []
    },
    {
      "cell_type": "code",
      "metadata": {
        "id": "HUPLOx83K9k9"
      },
      "source": [
        "a=[]\n",
        "c=[]\n",
        "n1=int(input(\"Enter number of elements:\"))\n",
        "for i in range(1,n1+1):\n",
        "    b=int(input(\"Enter element:\"))\n",
        "    a.append(b)\n",
        "n2=int(input(\"Enter number of elements:\"))\n",
        "for i in range(1,n2+1):\n",
        "    d=int(input(\"Enter element:\"))\n",
        "    c.append(d)\n",
        "new=a+c\n",
        "new.sort()\n",
        "print(\"Sorted list is:\",new)"
      ],
      "execution_count": null,
      "outputs": []
    },
    {
      "cell_type": "markdown",
      "metadata": {
        "id": "_A4LE4BbRkhJ"
      },
      "source": [
        "# New Section"
      ]
    },
    {
      "cell_type": "code",
      "metadata": {
        "id": "gQabOzrVqSOz"
      },
      "source": [
        "import random\n",
        "import pandas as pd\n",
        "import numpy as np\n",
        "\n",
        "a = \"Activity 4:\"\n",
        "print(a)\n",
        "a = \"Part-1: A random list of 10 integers from 1 to 100.\"\n",
        "print(a)\n",
        "\n",
        "rand_list = random.sample(range(1, 100), 10)\n",
        "rand_num = pd.Series(rand_list)\n",
        "rand_num.name = 'Random Numbers'\n",
        "rand_num.index.name = 'idx'\n",
        "print(rand_num, '\\n')\n",
        "a = \"\"\"\n",
        "Part-2(a): \n",
        "Squaring all values of the series in part 1\n",
        "Displaying the last 4 items \n",
        "\"\"\"\n",
        "print(a)\n",
        "rand_num_squared = rand_num**2\n",
        "print(rand_num[-4:], rand_num_squared[-4:], '\\n')\n",
        "\n",
        "a = \"\"\"\n",
        "Part-2(b): \n",
        "Squaring all values of the series in part 1\n",
        "Displaying only the values in the series that are greater than 500\n",
        "\"\"\"\n",
        "print(a)\n",
        "\n",
        "print(rand_num_squared[rand_num_squared > 500])"
      ],
      "execution_count": null,
      "outputs": []
    },
    {
      "cell_type": "code",
      "metadata": {
        "id": "CSndh0AXWioO"
      },
      "source": [
        "\n",
        "ListA = [1,15,7,9,23,10]\n",
        "ListB = [5,8,34,76,78,7,90]\n",
        "ListC = ListA + ListB\n",
        "ListA.sort()\n",
        "ListB.sort()\n",
        "ListC.sort()\n",
        "print(ListA)\n",
        "print(ListB)\n",
        "print(ListC)\n"
      ],
      "execution_count": null,
      "outputs": []
    },
    {
      "cell_type": "code",
      "metadata": {
        "id": "pK9qHEdbW6G4"
      },
      "source": [
        "import numpy as np\n",
        "import pandas as pd\n",
        "\n",
        "\n",
        "\n",
        "ListA = [1,15,7,9,23,10]\n",
        "ListB = [5,8,34,76,78,7,90]\n",
        "print(\"Original ListA: \" + str (ListA))\n",
        "print(\"Original ListB: \" + str (ListB))\n",
        "ListA.sort()\n",
        "ListB.sort()\n",
        "\n",
        "def merge(sortedListA, sortedListB):\n",
        "    #Complete this part \n",
        "    \n",
        "    ListC = merge_sorted_lists(ListA, ListB)\n",
        "    return ListC\n",
        "print(\"sortedListA: \" + str (ListA))\n",
        "print(\"sortedListB: \" + str (ListB))\n",
        "print(\"The merged and sorted lists: \" + str (ListC))"
      ],
      "execution_count": null,
      "outputs": []
    },
    {
      "cell_type": "code",
      "metadata": {
        "id": "tVhIF-KqlSqA"
      },
      "source": [
        "\n",
        "# include the lists\n",
        "\n",
        "ListA = [1,15,7,9,23,10]\n",
        "ListB = [5,8,34,76,78,7,90]\n",
        "\n",
        "# print the original lists\n",
        "\n",
        "print(\"The original ListA: \" + str (ListA))\n",
        "print(\"The original ListB: \" + str (ListB))\n",
        "ListC = sorted(ListA+ListB)\n",
        "\n",
        " # printing the results\n",
        "print(\"The merged sorted list: \" + str (ListC))\n"
      ],
      "execution_count": null,
      "outputs": []
    },
    {
      "cell_type": "code",
      "metadata": {
        "id": "0ej5hGdhyRyn"
      },
      "source": [
        "\"\"\"Given a list of numbers in random order, return the summary statistics \n",
        "that includes the max, min, mean, population standard deviation, median,\n",
        "75 percentile, and 25 percentile.\n",
        "\"\"\"  \n",
        "import pandas as pd\n",
        "import random \n",
        "import scipy as sy\n",
        "import numpy as np\n",
        "import stat\n",
        "  \n",
        "a = \"A random list of n integers from 1 to 100.\"\n",
        "print(a)\n",
        "\n",
        "a=[]\n",
        "c=[]\n",
        "n1=int(input(\"Enter number of elements:\"))\n",
        "\n",
        "rand_list = random.sample(range(1,100), n1)\n",
        "rand_num = pd.Series(rand_list)\n",
        "print(rand_num, '\\n')\n",
        "\n",
        "def summaryStatistics(listOfNums):\n",
        "    #Complete this part. \n",
        "    # You can decide to return the following statistics either in a sequence \n",
        "    # type (i.e., list, tuple), or a key-value pair (i.e., dictionary)\n",
        "    listOfNums = [1,3,45,21,34,5,2,34,8,10]\n",
        "    maxVal = max(listOfNums)\n",
        "    minVal = min(listOfNums)\n",
        "    meanVal = stat.mean(listOfNums)\n",
        "    stdev = stat.stdev(listOfNums)\n",
        "    perc75 = np.percentile(listOfNums, 75)\n",
        "    perc25 = np.percentile(listOfNums, 25)\n",
        "\n",
        "    listOfNums = []\n",
        "    return {'max': maxVal, \n",
        "            'min': minVal, \n",
        "            'mean': meanVal, \n",
        "            'stdev': stdev,\n",
        "            'median': median,\n",
        "            'perc75': perc75,\n",
        "            'perc25': perc25}\n",
        "print(summaryStatistics)"
      ],
      "execution_count": null,
      "outputs": []
    },
    {
      "cell_type": "code",
      "metadata": {
        "id": "qnngu4NwSUwR"
      },
      "source": [
        ""
      ],
      "execution_count": null,
      "outputs": []
    },
    {
      "cell_type": "code",
      "metadata": {
        "id": "lHGAboB_8y9j"
      },
      "source": [
        "import pandas as pd\n",
        "\n",
        "ListA = [1,15,7,9,23,10]\n",
        "ListB = [5,8,34,76,78,7,90]\n",
        "print(\"Original ListA: \" + str (ListA))\n",
        "print(\"Original ListB: \" + str (ListB))\n",
        "ListA.sort()\n",
        "ListB.sort()\n",
        "\n",
        "def merge(sortedListA, sortedListB):\n",
        "    #Complete this part \n",
        "    ListC = merge_sorted_lists(ListA, ListB)\n",
        "    return ListC\n",
        "print(\"sortedListA: \" + str (ListA))\n",
        "print(\"sortedListB: \" + str (ListB))\n",
        "print(\"The merged and sorted lists: \" + str (ListC))\n",
        "\n"
      ],
      "execution_count": null,
      "outputs": []
    },
    {
      "cell_type": "code",
      "metadata": {
        "id": "SBGjbteyCK2G"
      },
      "source": [
        "import numpy as np\n",
        "\n",
        "def summaryStatistics(listOfNums):\n",
        "    #Complete this part. \n",
        "    # You can decide to return the following statistics either in a sequence \n",
        "    # type (i.e., list, tuple), or a key-value pair (i.e., dictionary)\n",
        "    listOfNums = [1,3,45,21,34,5,2,34,8,10]\n",
        "    maxVal = np.max(listOfNums)\n",
        "    minVal = np.min(listOfNums)\n",
        "    meanVal = np.mean(listOfNums)\n",
        "    median = np.median(listOfNums)\n",
        "    stdev = np.std(listOfNums)\n",
        "    perc75 = np.percentile(listOfNums, 75)\n",
        "    perc25 = np.percentile(listOfNums, 25)\n",
        "\n",
        "    return {'max': maxVal, \n",
        "            'min': minVal, \n",
        "            'mean': meanVal, \n",
        "            'stdev': stdev,\n",
        "            'median': median,\n",
        "            'perc75': perc75,\n",
        "            'perc25': perc25}\n",
        "print(\"listOfNums =\" + str (listOfNums))\n",
        "summaryStatistics(listOfNums)\n"
      ],
      "execution_count": null,
      "outputs": []
    },
    {
      "cell_type": "code",
      "metadata": {
        "id": "6YPCWEMXJSkb"
      },
      "source": [
        "\"\"\"Given a list of real numbers in any range, scale them to be \n",
        "between 0 and 1 (inclusive). For each number x in the list, the new number \n",
        "is computed with the formula ((x - min)/(max - min)) where max is the \n",
        "maximum value of the original list and min is the minimum value of the list. \n",
        "\"\"\"\t\n",
        "import numpy as np\n",
        "import random\n",
        "def minMax(listOfNums): \n",
        "    #complete this part\n",
        "    newList = []\n",
        "    mn = np.min(listOfNums)\n",
        "    mx = np.max(listOfNums)\n",
        "    for x in listOfNums:\n",
        "      Normx = ((x-mn)/(mx-mn))\n",
        "      newList = [Normx] + newList\n",
        "    return newList\n",
        "minMax(listOfNums)"
      ],
      "execution_count": null,
      "outputs": []
    },
    {
      "cell_type": "code",
      "metadata": {
        "id": "s9nmlNIaKCaJ"
      },
      "source": [
        "import pandas as pd\n",
        "import numpy as np\n",
        "\n",
        "\n",
        "ListA = [1,15,7,9,23,10]\n",
        "ListB = [5,8,34,76,78,7,90]\n",
        "print(\"Original ListA: \" + str (ListA))\n",
        "print(\"Original ListB: \" + str (ListB))\n",
        "ListA.sort()\n",
        "ListB.sort()\n",
        "\n",
        "def merge(sortedListA, sortedListB):\n",
        "    #Complete this part \n",
        "    ListC = merge_sorted_lists(ListA, ListB)\n",
        "    return ListC\n",
        "    \n",
        "print(\"sortedListA: \" + str (ListA))\n",
        "print(\"sortedListB: \" + str (ListB))\n",
        "print(\"The merged and sorted lists: \" + str (ListC))\n"
      ],
      "execution_count": null,
      "outputs": []
    },
    {
      "cell_type": "code",
      "metadata": {
        "id": "o3JBK3F7UQvs"
      },
      "source": [
        "import pandas as pd\n",
        "df = pd.read_csv(\"https://www.cs.odu.edu/~sampath/courses/data/values.csv\")\n",
        "print(df)\n",
        "print(df.factor_1.std())\n",
        "print(df.factor_1.mean())"
      ],
      "execution_count": null,
      "outputs": []
    },
    {
      "cell_type": "code",
      "metadata": {
        "id": "16nUrCM106hx"
      },
      "source": [
        "import pandas as pd\n",
        "value_df = pd.read_csv(\"https://www.cs.odu.edu/~sampath/courses/data/values.csv\")\n",
        "\n",
        "value_df\n",
        "# Mean of factor_1\n",
        "meanValue = dataframe.loc[:,'factor_1'].mean()\n",
        "print('Mean: ',meanValue)\n",
        "\n",
        "# Standard Deviation of factor_1\n",
        "stdValue = dataframe.loc[:,'factor_1'].std()\n",
        "print('Standard Deviation: ',stdValue)"
      ],
      "execution_count": null,
      "outputs": []
    },
    {
      "cell_type": "code",
      "metadata": {
        "id": "gMRBuVDQ1Bgs"
      },
      "source": [
        "# Mean of factor_1\n",
        "meanValue = dataframe.loc[:,'factor_1'].mean()\n",
        "print('Mean: ',meanValue)\n",
        "\n",
        "# Standard Deviation of factor_1\n",
        "stdValue = dataframe.loc[:,'factor_1'].std()\n",
        "print('Standard Deviation: ',stdValue)"
      ],
      "execution_count": null,
      "outputs": []
    },
    {
      "cell_type": "code",
      "metadata": {
        "id": "Nyy3EnuL3hqO"
      },
      "source": [
        "import numpy as np\n",
        "import pandas as pd\n",
        "df = pd.read_csv(\"https://www.cs.odu.edu/~sampath/courses/data/values.csv\")\n",
        "print(df)\n",
        "\n",
        "print(\"Mean: \", data['factor_1'].mean())\n",
        "print(\"Standard deviation: \", data['factor_1'].std())"
      ],
      "execution_count": null,
      "outputs": []
    },
    {
      "cell_type": "code",
      "metadata": {
        "id": "XbCWjLXo4mFv"
      },
      "source": [
        "import pandas as pd\n",
        "import numpy as np\n",
        "from pandas import Series, DataFrame\n",
        "\n",
        "arr = np.random.randint(1,100, (3,5))\n",
        "print(arr)\n",
        "\n",
        "frame = DataFrame(arr,columns=['1','2','3','4','5'], index=['a','b','c'])\n",
        "\n",
        "tframe = frame.T\n",
        "tframe[tframe < 40] = 0\n",
        "print(tframe)"
      ],
      "execution_count": null,
      "outputs": []
    },
    {
      "cell_type": "code",
      "metadata": {
        "id": "nlVogMDP6Zwi"
      },
      "source": [
        "import numpy as mp\n",
        "import pandas as pd\n",
        "from pandas import Series, DataFrame\n",
        "rarray = np.random.randint(1,100, (3,5))\n",
        "rdf = pd.DataFrame(rarray, columns = [1,2,3,4,5], index = [\"a\", \"b\", \"c\"])\n",
        "print(rdf)\n",
        "rdf_t = rdf.T\n",
        "print(rdf_t)\n",
        "rdf_t[rdf_t < 40] = 0\n",
        "print(rdf_t)"
      ],
      "execution_count": null,
      "outputs": []
    },
    {
      "cell_type": "code",
      "metadata": {
        "id": "7D5SWJvwDOYc"
      },
      "source": [
        "import os\n",
        "import glob\n",
        "import pandas as pd\n",
        "#set working directory\n",
        "os.chdir(\"/yob-names\")\n",
        "\n",
        "#find all csv files in the folder\n",
        "#use glob pattern matching -> extension = 'csv'\n",
        "#save result in list -> all_filenames\n",
        "extension = 'csv'\n",
        "all_filenames = [i for i in glob.glob('*.{}'.format(extension))]\n",
        "#print(all_filenames)\n",
        "\n",
        "#combine all files in the list\n",
        "combined_csv = pd.concat([pd.read_csv(f) for f in all_filenames ])\n",
        "#export to csv\n",
        "combined_csv.to_csv( \"combined_csv.csv\", index=False, encoding='utf-8-sig')"
      ],
      "execution_count": null,
      "outputs": []
    },
    {
      "cell_type": "code",
      "metadata": {
        "id": "8CDvl7nqEpVn"
      },
      "source": [
        "import os, glob\n",
        "import pandas as pd\n",
        "\n",
        "path = \"C:\\Users\\alla\\Desktop\\Nagesh\\CS620\\hw2-wrangling\\yob-names\""
      ],
      "execution_count": null,
      "outputs": []
    },
    {
      "cell_type": "code",
      "metadata": {
        "id": "QAQc0EO9LJRQ"
      },
      "source": [
        "import os, glob\n",
        "import pandas as pd\n",
        "\n",
        "path = \"C:\\Users\\alla\\Desktop\\Nagesh\\CS620\\hw2-wrangling\\yob-names\"\n",
        "\n",
        "all_files = glob.glob(os.path.join(path, \"*.csv\"))\n",
        "\n",
        "all_df = []\n",
        "for f in all_files:\n",
        "    df = pd.read_csv(f, sep=',')\n",
        "    df['file'] = f.split('/')[-1]\n",
        "    all_df.append(df)\n",
        "    \n",
        "merged_df = pd.concat(all_df, ignore_index=True, sort=True)"
      ],
      "execution_count": null,
      "outputs": []
    },
    {
      "cell_type": "code",
      "metadata": {
        "id": "3-SV93D83W0E"
      },
      "source": [
        "ListA = [1,15,7,9,23,10]\n",
        "ListB = [5,8,34,76,78,7,90]\n",
        "print(\"Original ListA: \" + str (ListA))\n",
        "print(\"Original ListB: \" + str (ListB))\n",
        "ListA.sort()\n",
        "ListB.sort()\n",
        "\n",
        "def merge(sortedListA, sortedListB):\n",
        "    #Complete this part \n",
        "    \n",
        "    ListC = merge_sorted_lists(ListA, ListB)\n",
        "    return ListC\n",
        "print(\"sortedListA: \" + str (ListA))\n",
        "print(\"sortedListB: \" + str (ListB))\n",
        "print(\"The merged and sorted lists: \" + str (ListC))"
      ],
      "execution_count": null,
      "outputs": []
    },
    {
      "cell_type": "code",
      "metadata": {
        "id": "eBbToxq97rfM"
      },
      "source": [
        "List1 = [1, 2, 3]\n",
        "List2 = ['a', 'b', 'c']\n",
        "def merge(list1, list2): \n",
        "      \n",
        "    merged_list = [(list1[i], list2[i]) for i in range(0, len(list1))] \n",
        "    return merged_list\n",
        "merge(list1, list2)"
      ],
      "execution_count": null,
      "outputs": []
    },
    {
      "cell_type": "code",
      "metadata": {
        "id": "6AMaHwbw8UHv"
      },
      "source": [
        "list1 = [1, 2, 9]\n",
        "list2 = [5,5,6,6,7,8,9]\n",
        "def merge(list1, list2): \n",
        "      \n",
        "    List3 = (list1+list2)\n",
        "    List3.sort()\n",
        "    return List3\n",
        "merge(list1, list2)"
      ],
      "execution_count": null,
      "outputs": []
    },
    {
      "cell_type": "code",
      "metadata": {
        "id": "4lIb0sURDYBH"
      },
      "source": [
        "list1 = [25, 18, 9, 41, 26, 31]\n",
        "list2 = [25, 45, 3, 32, 15, 20]\n",
        "\n",
        "# Python program to merge and sort two list \n",
        "def Merge(list1, list2): \n",
        "    final_list = list1 + list2 \n",
        "    final_list.sort() \n",
        "    return (final_list)\n",
        "Merge(list1, list2)"
      ],
      "execution_count": null,
      "outputs": []
    },
    {
      "cell_type": "code",
      "metadata": {
        "id": "PzUq7nvdEI0I"
      },
      "source": [
        "list1 = [1, 2, 9]\n",
        "list2 = [5,5,6,6,7,8,9]\n",
        "def merge(list1, list2): \n",
        "      \n",
        "    sortedList = (list1+list2)\n",
        "    sortedList.sort()\n",
        "    return sortedList\n",
        "merge(list1, list2)"
      ],
      "execution_count": null,
      "outputs": []
    },
    {
      "cell_type": "code",
      "metadata": {
        "id": "58ql6NCiEgAu"
      },
      "source": [
        "sortedListA = [1,5,7,9,13,20]\n",
        "sortedListB = [5,8,14,26,38,74,90]\n",
        "def merge(sortedListA, sortedListB):\n",
        "    #Complete this part \n",
        " \n",
        "    sortedList = sortedListA + sortedListB\n",
        "    sortedList.sort()\n",
        "    return sortedList\n",
        "merge(sortedListA, sortedListB)"
      ],
      "execution_count": null,
      "outputs": []
    },
    {
      "cell_type": "code",
      "metadata": {
        "id": "IhXn4F2QRmPJ"
      },
      "source": [
        "import pandas as pd\n",
        "import numpy as np\n",
        "\n",
        "ListA = [1,15,7,9,23,10]\n",
        "ListB = [5,8,34,76,78,7,90]\n",
        "print(\"Original ListA: \" + str (ListA))\n",
        "print(\"Original ListB: \" + str (ListB))\n",
        "ListA.sort()\n",
        "ListB.sort()\n",
        "\n",
        "def merge(sortedListA, sortedListB):\n",
        "    #Complete this part \n",
        "    \n",
        "    ListC = merge_sorted_lists(ListA, ListB)\n",
        "    return sortedList\n",
        "print(\"sortedListA: \" + str (ListA))\n",
        "print(\"sortedListB: \" + str (ListB))\n",
        "print(\"The merged and sorted lists: \" + str (ListC))\n"
      ],
      "execution_count": null,
      "outputs": []
    },
    {
      "cell_type": "code",
      "metadata": {
        "id": "A7Zq1ul3flbr"
      },
      "source": [
        "\n",
        "if __name__ == '__main__':\n",
        "\n",
        "    list1 = ['a', 'u', 'i']\n",
        "    list2 = ['e','o']\n",
        "    sortedlist=merge(list1,list2)\n",
        "\n",
        "    print(\"list1:\",list1)\n",
        "    print(\"list2:\",list2)\n",
        "    print(\"sortedlist:\",sortedlist)\n",
        "\n"
      ],
      "execution_count": null,
      "outputs": []
    },
    {
      "cell_type": "code",
      "metadata": {
        "id": "6LaKW8RMfqIM"
      },
      "source": [
        "def minMax(listOfNums): \n",
        "\n",
        "    minl=min(listOfNums)\n",
        "    maxl=max(listOfNums)\n",
        "\n",
        "    newList=[(arg-minl)/(maxl-minl) for arg in listOfNums]\n",
        "\n",
        "    return newList\n",
        "minMax(listOfNums)"
      ],
      "execution_count": null,
      "outputs": []
    },
    {
      "cell_type": "code",
      "metadata": {
        "id": "_US8R1uwhrzS"
      },
      "source": [
        "ListA = [1,15,7,9,23,10]\n",
        "ListB = [5,8,34,76,78,7,90]\n",
        "def merge(sortedListA, sortedListB):\n",
        "\n",
        "    sortedList=sorted(sortedListA+sortedListB)  \n",
        "\n",
        "    return sortedList\n",
        "merge(sortedListA, sortedListB)"
      ],
      "execution_count": null,
      "outputs": []
    },
    {
      "cell_type": "code",
      "metadata": {
        "id": "SeMaZnBYlbE2"
      },
      "source": [
        "import pandas as pd\n",
        "import glob\n",
        "import gc\n",
        "import os\n",
        "import numpy as np\n",
        "\n",
        "\n",
        "#part I\n",
        "path = r'yob-names' # use your path\n",
        "yobPath = 'yob-names.csv'\n",
        "all_files = glob.glob(path + \"/*.txt\")\n",
        "\n",
        "year=int(all_files[0].replace(str(path),\"\").replace('.txt',\"\").replace('\\\\yob',\"\"))\n",
        "data_comb=pd.read_csv(all_files[0],header = None)\n",
        "data_comb=data_comb.rename(columns={0: \"name\", 1: \"sex\", 2: \"frequency\"})\n",
        "data_comb.insert(loc=0, column='year', value=year)\n",
        "\n",
        "for i in range(1,len(all_files)):\n",
        "\n",
        "\tyear=int(all_files[i].replace(str(path),\"\").replace('.txt',\"\").replace('\\\\yob',\"\"))\n",
        "\tdum=pd.read_csv(all_files[i],header = None)\n",
        "\tdum=dum.rename(columns={0: \"name\", 1: \"sex\", 2: \"frequency\"})\n",
        "\tdum.insert(loc=0, column='year', value=year)\n",
        "\tdata_comb=pd.concat([data_comb,dum])\n",
        "# Part II\n",
        "# a)\tWhat is the most popular boys name in year 1980?\n",
        "\n",
        "data_filter=data_comb[(data_comb[\"year\"]==1980) & (data_comb[\"sex\"]==\"M\")]\n",
        "data_filter=data_filter.groupby([\"name\"]).sum().sort_values(by=['frequency'],ascending=False)\n",
        "data_filter=data_filter.iloc[[0]]\n",
        "print('The most pouplar name is',data_filter.index[0], 'with frequency: ',data_filter[\"frequency\"].values[0])\n",
        "\n",
        "# b)\tHow many girls were born between 1990 and 2000?\n",
        "\n",
        "data_filter=data_comb[(data_comb[\"year\"]>=1980) & (data_comb[\"year\"]<=2000) & (data_comb[\"sex\"]==\"F\")]\n",
        "print(\"Number of girls born between 1990 and 2000:\",data_filter.shape[0])\n",
        "\n",
        "#c)\tHow many female Benjamin’s are alive today (year 2020)? \n",
        "\n",
        "lifeExpectancy = pd.read_csv(\"cdc-life-expectancy.csv\")\n",
        "lifeExpectancy=lifeExpectancy[[\"year\",\"F\"]]\n",
        "lifeExpectancy=lifeExpectancy.rename(columns={\"year\": \"year\", \"F\": \"Lifeexp\"})\n",
        "\n",
        "data_filter=data_comb[(data_comb[\"year\"]>=1950) & (data_comb[\"name\"]=='Benjamin') & (data_comb[\"sex\"]==\"F\")]\n",
        "data_filter=pd.merge(data_filter, lifeExpectancy, on='year')\n",
        "data_filter[\"Lifeexp\"]=data_filter[\"Lifeexp\"]+data_filter[\"year\"]\n",
        "\n",
        "print(\"Number of females alive with name Benjamin:\",data_filter[data_filter[\"Lifeexp\"]>=2000].shape[0])\n"
      ],
      "execution_count": null,
      "outputs": []
    }
  ]
}